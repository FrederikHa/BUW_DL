{
 "cells": [
  {
   "cell_type": "markdown",
   "metadata": {},
   "source": [
    "# Lesson 03: Overfitting, Regularization and Drop Out\n"
   ]
  },
  {
   "cell_type": "code",
   "execution_count": 1,
   "metadata": {},
   "outputs": [
    {
     "name": "stderr",
     "output_type": "stream",
     "text": [
      "/home/admin-cip/anaconda3/envs/tensorflow/lib/python3.6/importlib/_bootstrap.py:219: RuntimeWarning: numpy.dtype size changed, may indicate binary incompatibility. Expected 96, got 88\n",
      "  return f(*args, **kwds)\n",
      "/home/admin-cip/anaconda3/envs/tensorflow/lib/python3.6/importlib/_bootstrap.py:219: RuntimeWarning: numpy.dtype size changed, may indicate binary incompatibility. Expected 96, got 88\n",
      "  return f(*args, **kwds)\n"
     ]
    }
   ],
   "source": [
    "from __future__ import print_function\n",
    "\n",
    "from tensorflow.python import keras\n",
    "from tensorflow.python.keras.datasets import mnist\n",
    "from tensorflow.python.keras.models import Sequential\n",
    "from tensorflow.python.keras.layers import Dense, Dropout, Flatten, Conv2D, MaxPooling2D\n",
    "from tensorflow.python.keras.optimizers import RMSprop\n",
    "from tensorflow.python.keras import backend as K\n",
    "\n",
    "from sklearn.metrics import confusion_matrix\n",
    "\n",
    "import matplotlib.pyplot as plt\n",
    "import numpy as np\n",
    "import seaborn as sn\n",
    "import pandas as pd\n",
    "\n",
    "%matplotlib inline"
   ]
  },
  {
   "cell_type": "code",
   "execution_count": 2,
   "metadata": {},
   "outputs": [],
   "source": [
    "# Hyperparameters\n",
    "batch_size = 512\n",
    "num_classes = 10\n",
    "epochs = 20"
   ]
  },
  {
   "cell_type": "code",
   "execution_count": 3,
   "metadata": {},
   "outputs": [
    {
     "name": "stdout",
     "output_type": "stream",
     "text": [
      "60000 train samples\n",
      "10000 test samples\n"
     ]
    }
   ],
   "source": [
    "# the data, split between train and test sets\n",
    "(x_train, y_train), (x_test, y_test) = mnist.load_data()\n",
    "\n",
    "x_train = x_train.reshape(60000, 784)\n",
    "x_test = x_test.reshape(10000, 784)\n",
    "x_train = x_train.astype('float32')\n",
    "x_test = x_test.astype('float32')\n",
    "x_train /= 255\n",
    "x_test /= 255\n",
    "print(x_train.shape[0], 'train samples')\n",
    "print(x_test.shape[0], 'test samples')\n",
    "\n",
    "# Save test ground truth for the confusion matrix\n",
    "y_true=y_test\n",
    "\n",
    "# convert class vectors to binary class matrices\n",
    "# \"One-Hot-Encoding\"\n",
    "y_train = keras.utils.to_categorical(y_train, num_classes)\n",
    "y_test = keras.utils.to_categorical(y_test, num_classes)"
   ]
  },
  {
   "cell_type": "code",
   "execution_count": 4,
   "metadata": {},
   "outputs": [],
   "source": [
    "baseline_model = Sequential()\n",
    "baseline_model.add(Dense(1024, activation='relu', input_shape=(784,)))\n",
    "baseline_model.add(Dense(512, activation='relu', input_shape=(1024,)))\n",
    "baseline_model.add(Dense(num_classes, activation='softmax'))"
   ]
  },
  {
   "cell_type": "code",
   "execution_count": 5,
   "metadata": {},
   "outputs": [
    {
     "name": "stdout",
     "output_type": "stream",
     "text": [
      "WARNING:tensorflow:From /home/admin-cip/anaconda3/envs/tensorflow/lib/python3.6/site-packages/tensorflow/python/keras/_impl/keras/backend.py:1557: calling reduce_mean (from tensorflow.python.ops.math_ops) with keep_dims is deprecated and will be removed in a future version.\n",
      "Instructions for updating:\n",
      "keep_dims is deprecated, use keepdims instead\n"
     ]
    }
   ],
   "source": [
    "baseline_model.compile(loss=keras.losses.mean_squared_error,\n",
    "              optimizer=\"adam\",\n",
    "              metrics=['accuracy'])"
   ]
  },
  {
   "cell_type": "code",
   "execution_count": 6,
   "metadata": {},
   "outputs": [
    {
     "name": "stdout",
     "output_type": "stream",
     "text": [
      "_________________________________________________________________\n",
      "Layer (type)                 Output Shape              Param #   \n",
      "=================================================================\n",
      "dense_1 (Dense)              (None, 1024)              803840    \n",
      "_________________________________________________________________\n",
      "dense_2 (Dense)              (None, 512)               524800    \n",
      "_________________________________________________________________\n",
      "dense_3 (Dense)              (None, 10)                5130      \n",
      "=================================================================\n",
      "Total params: 1,333,770\n",
      "Trainable params: 1,333,770\n",
      "Non-trainable params: 0\n",
      "_________________________________________________________________\n"
     ]
    }
   ],
   "source": [
    "baseline_model.summary()"
   ]
  },
  {
   "cell_type": "code",
   "execution_count": 7,
   "metadata": {
    "scrolled": true
   },
   "outputs": [
    {
     "name": "stdout",
     "output_type": "stream",
     "text": [
      "Train on 60000 samples, validate on 10000 samples\n",
      "Epoch 1/20\n",
      "60000/60000 [==============================]60000/60000 [==============================] - 3s 48us/step - loss: 0.0138 - acc: 0.9103 - val_loss: 0.0066 - val_acc: 0.9561\n",
      "\n",
      "Epoch 2/20\n",
      "60000/60000 [==============================]60000/60000 [==============================] - 1s 21us/step - loss: 0.0052 - acc: 0.9678 - val_loss: 0.0045 - val_acc: 0.9700\n",
      "\n",
      "Epoch 3/20\n",
      "60000/60000 [==============================]60000/60000 [==============================] - 1s 20us/step - loss: 0.0034 - acc: 0.9790 - val_loss: 0.0038 - val_acc: 0.9747\n",
      "\n",
      "Epoch 4/20\n",
      "60000/60000 [==============================]60000/60000 [==============================] - 1s 20us/step - loss: 0.0025 - acc: 0.9848 - val_loss: 0.0035 - val_acc: 0.9778\n",
      "\n",
      "Epoch 5/20\n",
      "60000/60000 [==============================]60000/60000 [==============================] - 1s 19us/step - loss: 0.0020 - acc: 0.9880 - val_loss: 0.0030 - val_acc: 0.9796\n",
      "\n",
      "Epoch 6/20\n",
      "60000/60000 [==============================]60000/60000 [==============================] - 1s 19us/step - loss: 0.0015 - acc: 0.9908 - val_loss: 0.0027 - val_acc: 0.9818\n",
      "\n",
      "Epoch 7/20\n",
      "60000/60000 [==============================]60000/60000 [==============================] - 1s 20us/step - loss: 0.0012 - acc: 0.9929 - val_loss: 0.0027 - val_acc: 0.9820\n",
      "\n",
      "Epoch 8/20\n",
      "60000/60000 [==============================]60000/60000 [==============================] - 1s 19us/step - loss: 9.6922e-04 - acc: 0.9944 - val_loss: 0.0030 - val_acc: 0.9810\n",
      "\n",
      "Epoch 9/20\n",
      "60000/60000 [==============================]60000/60000 [==============================] - 1s 20us/step - loss: 8.3774e-04 - acc: 0.9952 - val_loss: 0.0026 - val_acc: 0.9832\n",
      "\n",
      "Epoch 10/20\n",
      "60000/60000 [==============================]60000/60000 [==============================] - 1s 21us/step - loss: 6.9231e-04 - acc: 0.9961 - val_loss: 0.0032 - val_acc: 0.9803\n",
      "\n",
      "Epoch 11/20\n",
      "60000/60000 [==============================]60000/60000 [==============================] - 1s 21us/step - loss: 9.6625e-04 - acc: 0.9942 - val_loss: 0.0035 - val_acc: 0.9782\n",
      "\n",
      "Epoch 12/20\n",
      "60000/60000 [==============================]60000/60000 [==============================] - 1s 19us/step - loss: 7.0360e-04 - acc: 0.9961 - val_loss: 0.0028 - val_acc: 0.9831\n",
      "\n",
      "Epoch 13/20\n",
      "60000/60000 [==============================]60000/60000 [==============================] - 1s 20us/step - loss: 5.6326e-04 - acc: 0.9969 - val_loss: 0.0030 - val_acc: 0.9806\n",
      "\n",
      "Epoch 14/20\n",
      "60000/60000 [==============================]60000/60000 [==============================] - 1s 19us/step - loss: 4.9646e-04 - acc: 0.9971 - val_loss: 0.0028 - val_acc: 0.9818\n",
      "\n",
      "Epoch 15/20\n",
      "60000/60000 [==============================]60000/60000 [==============================] - 1s 18us/step - loss: 6.1956e-04 - acc: 0.9965 - val_loss: 0.0031 - val_acc: 0.9801\n",
      "\n",
      "Epoch 16/20\n",
      "60000/60000 [==============================]60000/60000 [==============================] - 1s 19us/step - loss: 7.9606e-04 - acc: 0.9953 - val_loss: 0.0029 - val_acc: 0.9814\n",
      "\n",
      "Epoch 17/20\n",
      "60000/60000 [==============================]60000/60000 [==============================] - 1s 19us/step - loss: 7.1494e-04 - acc: 0.9957 - val_loss: 0.0027 - val_acc: 0.9835\n",
      "\n",
      "Epoch 18/20\n",
      "60000/60000 [==============================]60000/60000 [==============================] - 1s 19us/step - loss: 6.0517e-04 - acc: 0.9966 - val_loss: 0.0027 - val_acc: 0.9832\n",
      "\n",
      "Epoch 19/20\n",
      "60000/60000 [==============================]60000/60000 [==============================] - 1s 20us/step - loss: 4.9191e-04 - acc: 0.9972 - val_loss: 0.0031 - val_acc: 0.9809\n",
      "\n",
      "Epoch 20/20\n",
      "60000/60000 [==============================]60000/60000 [==============================] - 1s 20us/step - loss: 4.5048e-04 - acc: 0.9973 - val_loss: 0.0029 - val_acc: 0.9817\n",
      "\n"
     ]
    }
   ],
   "source": [
    "# Fit the model\n",
    "history = baseline_model.fit(x_train, y_train,\n",
    "          batch_size=batch_size,\n",
    "          epochs=epochs,\n",
    "          verbose=1,\n",
    "          validation_data=(x_test, y_test))"
   ]
  },
  {
   "cell_type": "code",
   "execution_count": 8,
   "metadata": {},
   "outputs": [
    {
     "name": "stdout",
     "output_type": "stream",
     "text": [
      "dict_keys(['val_loss', 'val_acc', 'loss', 'acc'])\n"
     ]
    }
   ],
   "source": [
    "# list all data in history\n",
    "print(history.history.keys())"
   ]
  },
  {
   "cell_type": "code",
   "execution_count": 9,
   "metadata": {},
   "outputs": [
    {
     "data": {
      "image/png": "[encoded data removed]",
      "text/plain": [
       "<Figure size 432x288 with 1 Axes>"
      ]
     },
     "metadata": {},
     "output_type": "display_data"
    }
   ],
   "source": [
    "# summarize history for accuracy\n",
    "plt.plot(history.history['acc'])\n",
    "plt.plot(history.history['val_acc'])\n",
    "plt.title('model accuracy')\n",
    "plt.ylabel('accuracy')\n",
    "plt.xlabel('epoch')\n",
    "plt.legend(['train', 'test'], loc='upper left')\n",
    "plt.show()"
   ]
  },
  {
   "cell_type": "code",
   "execution_count": 10,
   "metadata": {},
   "outputs": [
    {
     "data": {
      "image/png": "[encoded data removed]",
      "text/plain": [
       "<Figure size 432x288 with 1 Axes>"
      ]
     },
     "metadata": {},
     "output_type": "display_data"
    }
   ],
   "source": [
    "# summarize history for loss\n",
    "plt.plot(history.history['loss'])\n",
    "plt.plot(history.history['val_loss'])\n",
    "plt.title('model loss')\n",
    "plt.ylabel('loss')\n",
    "plt.xlabel('epoch')\n",
    "plt.legend(['train', 'test'], loc='upper left')\n",
    "plt.show()"
   ]
  },
  {
   "cell_type": "code",
   "execution_count": 11,
   "metadata": {},
   "outputs": [
    {
     "name": "stdout",
     "output_type": "stream",
     "text": [
      "Test loss: 0.002932275430106764\n",
      "Test accuracy: 0.9817\n"
     ]
    }
   ],
   "source": [
    "score = baseline_model.evaluate(x_test, y_test, verbose=0)\n",
    "print('Test loss:', score[0])\n",
    "print('Test accuracy:', score[1])"
   ]
  }
 ],
 "metadata": {
  "kernelspec": {
   "display_name": "Python 3",
   "language": "python",
   "name": "python3"
  },
  "language_info": {
   "codemirror_mode": {
    "name": "ipython",
    "version": 3
   },
   "file_extension": ".py",
   "mimetype": "text/x-python",
   "name": "python",
   "nbconvert_exporter": "python",
   "pygments_lexer": "ipython3",
   "version": "3.6.6"
  }
 },
 "nbformat": 4,
 "nbformat_minor": 2
}
